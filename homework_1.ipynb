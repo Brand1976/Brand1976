{
 "cells": [
  {
   "cell_type": "markdown",
   "metadata": {},
   "source": [
    "# <center> Homework 1 </center>"
   ]
  },
  {
   "cell_type": "markdown",
   "metadata": {},
   "source": [
    "# 0. Где мы сейчас?\n",
    "<img src=\"https://upload.wikimedia.org/wikipedia/commons/thumb/3/38/Jupyter_logo.svg/1200px-Jupyter_logo.svg.png\" width=\"150\">\n",
    "\n",
    "[Jupyter Notebook](https://jupyter.org/) - интерактивная среда для запуска программного кода в браузере. Удобный инструмент для анализа данных, который используется многими специалистами по data science. Позволяет выполнять отдельные ячейки с кодом, а не всю программу сразу, что очень удобно при знакомстве с данными."
   ]
  },
  {
   "cell_type": "markdown",
   "metadata": {},
   "source": [
    "# 1. Python\n",
    "> Python - это свободный интерпретируемый объектно-ориентированный расширяемый встраиваемый язык программирования очень высокого уровня \n",
    "\n",
    ">*(Г.Россум, Ф.Л.Дж.Дрейк, Д.С.Откидач \"Язык программирования Python\").*\n",
    "\n",
    "А если без цитат, то питон - это просто очень крутой язык, созданный в 1991 году [Великодушным пожизненным диктатором](https://ru.wikipedia.org/wiki/%D0%92%D0%B5%D0%BB%D0%B8%D0%BA%D0%BE%D0%B4%D1%83%D1%88%D0%BD%D1%8B%D0%B9_%D0%BF%D0%BE%D0%B6%D0%B8%D0%B7%D0%BD%D0%B5%D0%BD%D0%BD%D1%8B%D0%B9_%D0%B4%D0%B8%D0%BA%D1%82%D0%B0%D1%82%D0%BE%D1%80) Гвидо ван Россумом и названный в честь любимого им шоу [Monty Python's Flying Circus](https://en.wikipedia.org/wiki/Monty_Python%27s_Flying_Circus)\n",
    "\n",
    "<img src=\"https://advancelocal-adapter-image-uploads.s3.amazonaws.com/image.oregonlive.com/home/olive-media/width2048/img/tv/photo/2018/10/10/montycastjpg-7ef393e2355a42aa.jpg\" width=\"300\">"
   ]
  },
  {
   "cell_type": "markdown",
   "metadata": {},
   "source": [
    "# 2. Anaconda\n",
    "\n",
    "<img src=\"https://cdn-images-1.medium.com/max/1600/0*MVkCW8_Bmj-nuAnI.png\" width=\"300\">\n",
    "\n",
    "[Сборка Anaconda](https://www.anaconda.com/products/individual) включает очень много полезных библиотек для анализа данных. \n",
    "\n",
    "Среди наиболее популярных библиотек:\n",
    " - <a href=\"http://numpy.org\">Numpy</a> - это один из основных пакетов для математических вычислений. Он содержит средства для работы с многомерными массивами и высокоуровневыми математическими функциями\n",
    " - <a href=\"https://www.scipy.org/\">SciPy</a> - научные вычисления. Методы оптимизации, интегрирования, модули обработки сигналов и изображений, статистика, линейная алгебра, сплайны, кластеризация и многое другое\n",
    " -  <a href=\"http://pandas.pydata.org/\">Pandas</a> - основная библиотека для обработки и анализа данных. Предназначена для данных разной природы - матричных, панельных данных, временных рядов. Претендует на звание самого мощного и гибкого средства для анализа данных с открытым исходным кодом\n",
    " - <a href=\"http://scikit-learn.org/stable/\">Scikit-learn</a> - реализация очень многих методов машинного обучения с отличной документацией. \n",
    " - <a href=\"http://http://matplotlib.org/\">matplotlib</a> - хорошая библиотека для визуализации данных"
   ]
  },
  {
   "cell_type": "markdown",
   "metadata": {},
   "source": [
    "# 3. Задачки"
   ]
  },
  {
   "cell_type": "markdown",
   "metadata": {},
   "source": [
    "## Задача 1\n",
    "$N$ хоббитов делят $K$ кусков эльфийского хлеба поровну, не делящийся нацело остаток остается в корзинке у Сэма. Напишите функцию, которая принимает на вход параметры $N$ и $K$ и возвращает два числа: $x$ - cколько кусков эльфиского хлеба достанется каждому хоббиту, и $y$ - сколько кусков остаётся в корзинке."
   ]
  },
  {
   "cell_type": "code",
   "execution_count": 19,
   "metadata": {},
   "outputs": [
    {
     "name": "stdout",
     "output_type": "stream",
     "text": [
      "(4, 2)\n"
     ]
    }
   ],
   "source": [
    "def share_bread(N, K):\n",
    "    # your code here\n",
    "    x = K // N\n",
    "    y = K % N\n",
    "    return x, y\n",
    "\n",
    "# если в функции всё верно, то после выполнения этой строчки, не должно выскакивать ошибок\n",
    "assert share_bread(N=3, K=14) == (4, 2)\n",
    "print (share_bread(N=3, K=14))"
   ]
  },
  {
   "cell_type": "markdown",
   "metadata": {},
   "source": [
    "## Задача 2\n",
    "\n",
    "В копях Мории хоббиты нашли стену, на которой высечены разные натуральные числа. Согласно древним сказаниям, это даты сражений. Хоббиты знают, что сражения происходили только по високосным годам. Помогите хоббитам определить, является ли год с данным числом датой великого сражения. Если это так, то верните строку \"YOU SHALL PASS\", иначе верните \"YOU SHALL NOT PASS\". Напомним, что в соответствии с хоббитским календарем, год является високосным, если его номер кратен 4, но не кратен 100, а также если он кратен 400."
   ]
  },
  {
   "cell_type": "code",
   "execution_count": 22,
   "metadata": {},
   "outputs": [],
   "source": [
    "def leap_year(year):\n",
    "    # your code here\n",
    "    if not year%4:\n",
    "        if year%100:\n",
    "            text_result = \"YOU SHALL PASS\"\n",
    "        elif not year%400:\n",
    "            text_result = \"YOU SHALL PASS\"\n",
    "        else:\n",
    "            text_result = \"YOU SHALL NOT PASS\"\n",
    "    else:\n",
    "        text_result = \"YOU SHALL NOT PASS\"\n",
    "    return text_result\n",
    "\n",
    "assert leap_year(5) == 'YOU SHALL NOT PASS'"
   ]
  },
  {
   "cell_type": "markdown",
   "metadata": {},
   "source": [
    "## Задача 3\n",
    "<img src=\"http://i0.kym-cdn.com/photos/images/original/001/187/255/5e9.gif\" width=300>\n",
    "Для могущественного магического ритуала Гендальфу необходимо быстро подсчитывать площадь своего амулета, который умеет менять размеры. Известно, что амулет имеет форму треугольника и Гендальф знает длину каждой из сторон. Напишите функцию, которая считает площадь амулета по трем сторонам.  \n",
    "\n",
    "Подсказка: используйте формулу Герона\n",
    "$$ S = \\sqrt{p(p-a)(p-b)(p-c)} $$\n",
    "$$ p = \\frac{a + b + c}{2}$$\n"
   ]
  },
  {
   "cell_type": "code",
   "execution_count": 25,
   "metadata": {},
   "outputs": [],
   "source": [
    "def amulet_area(a, b, c):\n",
    "    # your code here\n",
    "    p = (a + b + c) / 2\n",
    "    S = (p * ( p - a ) * ( p - b ) * ( p - c )) ** (0.5)\n",
    "    return S\n",
    "\n",
    "assert amulet_area(3, 4, 5) == 6"
   ]
  },
  {
   "cell_type": "markdown",
   "metadata": {},
   "source": [
    "## Задача 4\n",
    "\n",
    "Хоббиты собираются пешком идти до Мордора и им нужно подсчитать расстояние, которое им предстоит пройти. Хоббиты смогли вспомнить сразу несколько метрик расстояния: евклидово, манхэттена и косинусное, так что ваша задача - напистаь функцию под каждую из них. Важное условие - используйте только базовые функции numpy для решения.\n",
    "\n",
    "\n",
    "* Евклидово расстояние\n",
    "$$ d(a, b) = \\sqrt{\\sum_i (a_i - b_i)^2} $$\n",
    "* Расстояние Манхэттена\n",
    "$$ d(a, b) = \\sum_i |a_i - b_i| $$\n",
    "* Косинусное расстояние\n",
    "$$ d(a, b) = 1 - \\frac{a^\\top b}{||a||_2\\cdot||b||_2}$$"
   ]
  },
  {
   "cell_type": "code",
   "execution_count": 26,
   "metadata": {},
   "outputs": [],
   "source": [
    "import numpy as np\n",
    "def cal_euclidean(a, b):    \n",
    "    print (a,b)\n",
    "    distance = (((a - b)**2).sum())**(0.5)\n",
    "    return distance\n",
    "\n",
    "def cal_manhattan(a, b):    \n",
    "    print (a,b)\n",
    "    distance = abs(a - b).sum()\n",
    "    return distance\n",
    "\n",
    "def cal_cosine(a, b):    \n",
    "    print (a,b)\n",
    "    # формулу взял из Инета \n",
    "    distance = 1 - np.inner(a,b)/np.sqrt(np.dot(a,a)*np.dot(b,b))\n",
    "    return distance\n",
    "\n"
   ]
  },
  {
   "cell_type": "code",
   "execution_count": 27,
   "metadata": {},
   "outputs": [
    {
     "name": "stdout",
     "output_type": "stream",
     "text": [
      "[ 8 -1 -9  2 -5 -5  6  7 -9 -2] [-2  9 -3 -1  7  5  6  1 -5  0]\n",
      "23.345235059857504\n",
      "[ 8 -1 -9  2 -5 -5  6  7 -9 -2] [-2  9 -3 -1  7  5  6  1 -5  0]\n",
      "63\n",
      "[ 8 -1 -9  2 -5 -5  6  7 -9 -2] [-2  9 -3 -1  7  5  6  1 -5  0]\n",
      "0.9042252164042687\n"
     ]
    }
   ],
   "source": [
    "a = np.random.randint(-10, 10, size=10)\n",
    "b = np.random.randint(-10, 10, size=10)\n",
    "print(cal_euclidean(a, b))\n",
    "print(cal_manhattan(a, b))\n",
    "print(cal_cosine(a, b))\n"
   ]
  },
  {
   "cell_type": "markdown",
   "metadata": {},
   "source": [
    "## Задача 5\n",
    "\n",
    "Ну и напоследок, еще немного практики numpy, без которой не обходится ни один хоббит.\n"
   ]
  },
  {
   "cell_type": "markdown",
   "metadata": {},
   "source": [
    "Создайте случайный array (`np.random.rand()`) длинной 100. Преобразуйте его так, чтобы\n",
    "* Максимальный элемент(ы) был равен 1\n",
    "* Минимальный элемент(ы) был равен 0\n",
    "* Остальные элементы в итнтервале от 0 до 1 остаются прежними"
   ]
  },
  {
   "cell_type": "code",
   "execution_count": 29,
   "metadata": {},
   "outputs": [
    {
     "name": "stdout",
     "output_type": "stream",
     "text": [
      "[0.89234404 0.23228304 0.58539948 0.66309976 0.54041144 0.84906746\n",
      " 0.03293146 0.11849984 0.12766249 0.78767546 0.18532569 0.45360077\n",
      " 0.97836813 0.40012029 0.74459644 0.88250536 0.00663557 0.17598736\n",
      " 0.89320411 0.787224   0.27322357 0.00499556 0.53060323 0.7479219\n",
      " 0.80707167 0.14201029 0.4651985  0.81041105 0.32148176 0.24802612\n",
      " 0.60105835 0.46754238 0.84165169 0.70054789 0.95596329 0.48363297\n",
      " 0.26931321 0.71750475 0.44277091 0.86451555 0.66995619 0.55769644\n",
      " 0.71394659 0.59528822 0.03660839 0.42254939 0.807966   0.91196461\n",
      " 0.73860832 0.24109952 0.32556722 0.48382365 0.8932995  0.89140444\n",
      " 0.43960433 0.6292547  0.41287089 0.40010762 0.53400098 0.02388848\n",
      " 0.1005174  0.92398616 0.0712209  0.66006576 0.30786254 0.41845776\n",
      " 0.83484535 0.58889356 0.78957994 0.92311707 0.32908696 0.19887142\n",
      " 0.32059493 0.38720619 0.33290029 0.85401423 0.8344307  0.90756238\n",
      " 0.72475821 0.06898925 0.02829015 0.33764843 0.2228059  0.58741237\n",
      " 0.85872361 0.72583725 0.10548713 0.74367184 0.42299642 0.65604185\n",
      " 0.83224764 0.15748001 0.79840174 0.33109796 0.71731087 0.20864115\n",
      " 0.69911525 0.06094756 0.14074375 0.49841432]\n",
      "1.0 0.0\n",
      "[0.89234404 0.23228304 0.58539948 0.66309976 0.54041144 0.84906746\n",
      " 0.03293146 0.11849984 0.12766249 0.78767546 0.18532569 0.45360077\n",
      " 1.         0.40012029 0.74459644 0.88250536 0.00663557 0.17598736\n",
      " 0.89320411 0.787224   0.27322357 0.         0.53060323 0.7479219\n",
      " 0.80707167 0.14201029 0.4651985  0.81041105 0.32148176 0.24802612\n",
      " 0.60105835 0.46754238 0.84165169 0.70054789 0.95596329 0.48363297\n",
      " 0.26931321 0.71750475 0.44277091 0.86451555 0.66995619 0.55769644\n",
      " 0.71394659 0.59528822 0.03660839 0.42254939 0.807966   0.91196461\n",
      " 0.73860832 0.24109952 0.32556722 0.48382365 0.8932995  0.89140444\n",
      " 0.43960433 0.6292547  0.41287089 0.40010762 0.53400098 0.02388848\n",
      " 0.1005174  0.92398616 0.0712209  0.66006576 0.30786254 0.41845776\n",
      " 0.83484535 0.58889356 0.78957994 0.92311707 0.32908696 0.19887142\n",
      " 0.32059493 0.38720619 0.33290029 0.85401423 0.8344307  0.90756238\n",
      " 0.72475821 0.06898925 0.02829015 0.33764843 0.2228059  0.58741237\n",
      " 0.85872361 0.72583725 0.10548713 0.74367184 0.42299642 0.65604185\n",
      " 0.83224764 0.15748001 0.79840174 0.33109796 0.71731087 0.20864115\n",
      " 0.69911525 0.06094756 0.14074375 0.49841432]\n"
     ]
    }
   ],
   "source": [
    "## Your code here\n",
    "my_array = np.random.rand(100)\n",
    "print(my_array)\n",
    "my_array[my_array == max(my_array) ] = 1\n",
    "my_array[my_array == min(my_array) ] = 0\n",
    "\n",
    "print(np.max(my_array), np.min(my_array))\n",
    "print(my_array)"
   ]
  },
  {
   "cell_type": "markdown",
   "metadata": {},
   "source": [
    "Создайте array размером $5 \\times 6$ с целыми числами в интервале [0,50]. Напечатайте колонку, которая содержит максимальный элемент полученной матрицы "
   ]
  },
  {
   "cell_type": "code",
   "execution_count": 62,
   "metadata": {},
   "outputs": [
    {
     "name": "stdout",
     "output_type": "stream",
     "text": [
      "(array([3], dtype=int64), array([1], dtype=int64))\n",
      "Shape:  (5, 6)\n",
      "Array\n",
      "[[ 4  1 18 47 40  5]\n",
      " [42 32  5  8 18 44]\n",
      " [40 30 10 44 12 45]\n",
      " [ 5 48  8  9  0 19]\n",
      " [ 0 18 39 45 28  6]]\n",
      "[ 1 32 30 48 18]\n"
     ]
    }
   ],
   "source": [
    "my_array = np.random.randint(0, 50, size = (5, 6))\n",
    "ind_max = np.where(my_array == np.max(my_array))\n",
    "print (ind_max)\n",
    "selected_column = my_array [:, ind_max[1][0]]\n",
    "print('Shape: ',my_array.shape)\n",
    "print('Array')\n",
    "print(my_array)\n",
    "print(selected_column)"
   ]
  },
  {
   "cell_type": "markdown",
   "metadata": {},
   "source": [
    "Напишите функцию, которая принимает на вохд матрицу (array) X и возвращает все её уникальные строки в виде новой матрицы."
   ]
  },
  {
   "cell_type": "code",
   "execution_count": 16,
   "metadata": {},
   "outputs": [],
   "source": [
    "import numpy as np\n",
    "def get_unique_rows(X):\n",
    "    # Your code here\n",
    "    X_unique = X[[0,]]\n",
    "    for a in X:\n",
    "        if list(a) not in X_unique.tolist():\n",
    "            X_unique = np.vstack([X_unique, a])\n",
    "    return X_unique"
   ]
  },
  {
   "cell_type": "code",
   "execution_count": 17,
   "metadata": {},
   "outputs": [
    {
     "name": "stdout",
     "output_type": "stream",
     "text": [
      "[[5 4 4]\n",
      " [4 5 4]\n",
      " [5 4 4]\n",
      " [5 5 5]\n",
      " [4 4 4]\n",
      " [4 4 5]\n",
      " [4 4 4]\n",
      " [5 5 4]\n",
      " [5 5 4]\n",
      " [4 5 5]]\n"
     ]
    }
   ],
   "source": [
    "X = np.random.randint(4, 6, size=(10,3))\n",
    "print(X)"
   ]
  },
  {
   "cell_type": "code",
   "execution_count": 18,
   "metadata": {},
   "outputs": [
    {
     "name": "stdout",
     "output_type": "stream",
     "text": [
      "[[5 4 4]\n",
      " [4 5 4]\n",
      " [5 5 5]\n",
      " [4 4 4]\n",
      " [4 4 5]\n",
      " [5 5 4]\n",
      " [4 5 5]]\n"
     ]
    }
   ],
   "source": [
    "print(get_unique_rows(X))"
   ]
  },
  {
   "cell_type": "code",
   "execution_count": null,
   "metadata": {},
   "outputs": [],
   "source": []
  }
 ],
 "metadata": {
  "kernelspec": {
   "display_name": "Python 3 (ipykernel)",
   "language": "python",
   "name": "python3"
  },
  "language_info": {
   "codemirror_mode": {
    "name": "ipython",
    "version": 3
   },
   "file_extension": ".py",
   "mimetype": "text/x-python",
   "name": "python",
   "nbconvert_exporter": "python",
   "pygments_lexer": "ipython3",
   "version": "3.8.1"
  },
  "varInspector": {
   "cols": {
    "lenName": 16,
    "lenType": 16,
    "lenVar": 40
   },
   "kernels_config": {
    "python": {
     "delete_cmd_postfix": "",
     "delete_cmd_prefix": "del ",
     "library": "var_list.py",
     "varRefreshCmd": "print(var_dic_list())"
    },
    "r": {
     "delete_cmd_postfix": ") ",
     "delete_cmd_prefix": "rm(",
     "library": "var_list.r",
     "varRefreshCmd": "cat(var_dic_list()) "
    }
   },
   "types_to_exclude": [
    "module",
    "function",
    "builtin_function_or_method",
    "instance",
    "_Feature"
   ],
   "window_display": false
  }
 },
 "nbformat": 4,
 "nbformat_minor": 4
}
